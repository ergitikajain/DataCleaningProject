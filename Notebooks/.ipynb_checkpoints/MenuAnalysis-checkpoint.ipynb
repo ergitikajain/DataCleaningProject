{
 "cells": [
  {
   "cell_type": "markdown",
   "metadata": {},
   "source": [
    "## Using Pandas to Curate Data from the New York Public Library's *What's On the Menu?* Project\n",
    "\n",
    "Alok K. Shukla\n",
    "\n",
    "Inspired by similar work by Trevor Muñoz at http://curatingmenus.org/\n",
    "\n",
    "Aug 3, 2017"
   ]
  },
  {
   "cell_type": "code",
   "execution_count": 67,
   "metadata": {
    "collapsed": true
   },
   "outputs": [],
   "source": [
    "import pandas as pd\n",
    "import matplotlib.pyplot as plt\n",
    "import numpy as np"
   ]
  },
  {
   "cell_type": "code",
   "execution_count": 68,
   "metadata": {
    "collapsed": true
   },
   "outputs": [],
   "source": [
    "# Helper functions\n",
    "import bisect\n",
    "def justLesserThan2012(values):\n",
    "    values.sort()\n",
    "    index = bisect.bisect(values, 2012)\n",
    "    return values[index-1]\n",
    "\n",
    "def justGreaterThan1851(values):\n",
    "    values.sort()\n",
    "    index = bisect.bisect(values, 1850)\n",
    "    return values[index]"
   ]
  },
  {
   "cell_type": "markdown",
   "metadata": {},
   "source": [
    "#### Loading Data\n",
    "\n",
    "And timing it. Dish (25MB) and MenuItem(118 MB)"
   ]
  },
  {
   "cell_type": "code",
   "execution_count": 69,
   "metadata": {},
   "outputs": [
    {
     "name": "stdout",
     "output_type": "stream",
     "text": [
      "Wall time: 752 ms\n"
     ]
    }
   ],
   "source": [
    "%%time\n",
    "\n",
    "dish_data = '../Dataset/Dish.csv'\n",
    "dish_df = pd.read_csv(dish_data, index_col='id',encoding='latin1')"
   ]
  },
  {
   "cell_type": "code",
   "execution_count": 70,
   "metadata": {},
   "outputs": [
    {
     "name": "stdout",
     "output_type": "stream",
     "text": [
      "Wall time: 3.49 s\n"
     ]
    },
    {
     "name": "stderr",
     "output_type": "stream",
     "text": [
      "C:\\ProgramData\\Anaconda3\\lib\\site-packages\\numpy\\lib\\arraysetops.py:395: FutureWarning: elementwise comparison failed; returning scalar instead, but in the future will perform elementwise comparison\n",
      "  mask |= (ar1 == a)\n"
     ]
    }
   ],
   "source": [
    "%%time\n",
    "\n",
    "menu_item_data = '../Dataset/MenuItem.csv'\n",
    "item_df = pd.read_csv(menu_item_data, index_col='dish_id',encoding='latin1')"
   ]
  },
  {
   "cell_type": "markdown",
   "metadata": {},
   "source": [
    "With both DataFrames set up, we can print the first few rows to check that everything looks right."
   ]
  },
  {
   "cell_type": "code",
   "execution_count": 71,
   "metadata": {},
   "outputs": [
    {
     "data": {
      "text/html": [
       "<div>\n",
       "<style>\n",
       "    .dataframe thead tr:only-child th {\n",
       "        text-align: right;\n",
       "    }\n",
       "\n",
       "    .dataframe thead th {\n",
       "        text-align: left;\n",
       "    }\n",
       "\n",
       "    .dataframe tbody tr th {\n",
       "        vertical-align: top;\n",
       "    }\n",
       "</style>\n",
       "<table border=\"1\" class=\"dataframe\">\n",
       "  <thead>\n",
       "    <tr style=\"text-align: right;\">\n",
       "      <th></th>\n",
       "      <th>name</th>\n",
       "      <th>description</th>\n",
       "      <th>menus_appeared</th>\n",
       "      <th>times_appeared</th>\n",
       "      <th>first_appeared</th>\n",
       "      <th>last_appeared</th>\n",
       "      <th>lowest_price</th>\n",
       "      <th>highest_price</th>\n",
       "    </tr>\n",
       "    <tr>\n",
       "      <th>id</th>\n",
       "      <th></th>\n",
       "      <th></th>\n",
       "      <th></th>\n",
       "      <th></th>\n",
       "      <th></th>\n",
       "      <th></th>\n",
       "      <th></th>\n",
       "      <th></th>\n",
       "    </tr>\n",
       "  </thead>\n",
       "  <tbody>\n",
       "    <tr>\n",
       "      <th>1</th>\n",
       "      <td>Consomme printaniere royal</td>\n",
       "      <td>NaN</td>\n",
       "      <td>8</td>\n",
       "      <td>8</td>\n",
       "      <td>1897</td>\n",
       "      <td>1927</td>\n",
       "      <td>0.20</td>\n",
       "      <td>0.4</td>\n",
       "    </tr>\n",
       "    <tr>\n",
       "      <th>2</th>\n",
       "      <td>Chicken gumbo</td>\n",
       "      <td>NaN</td>\n",
       "      <td>111</td>\n",
       "      <td>117</td>\n",
       "      <td>1895</td>\n",
       "      <td>1960</td>\n",
       "      <td>0.10</td>\n",
       "      <td>0.8</td>\n",
       "    </tr>\n",
       "    <tr>\n",
       "      <th>3</th>\n",
       "      <td>Tomato aux croutons</td>\n",
       "      <td>NaN</td>\n",
       "      <td>13</td>\n",
       "      <td>13</td>\n",
       "      <td>1893</td>\n",
       "      <td>1917</td>\n",
       "      <td>0.25</td>\n",
       "      <td>0.4</td>\n",
       "    </tr>\n",
       "    <tr>\n",
       "      <th>4</th>\n",
       "      <td>Onion au gratin</td>\n",
       "      <td>NaN</td>\n",
       "      <td>41</td>\n",
       "      <td>41</td>\n",
       "      <td>1900</td>\n",
       "      <td>1971</td>\n",
       "      <td>0.25</td>\n",
       "      <td>1.0</td>\n",
       "    </tr>\n",
       "    <tr>\n",
       "      <th>5</th>\n",
       "      <td>St. Emilion</td>\n",
       "      <td>NaN</td>\n",
       "      <td>66</td>\n",
       "      <td>68</td>\n",
       "      <td>1881</td>\n",
       "      <td>1981</td>\n",
       "      <td>0.00</td>\n",
       "      <td>18.0</td>\n",
       "    </tr>\n",
       "  </tbody>\n",
       "</table>\n",
       "</div>"
      ],
      "text/plain": [
       "                          name  description  menus_appeared  times_appeared  \\\n",
       "id                                                                            \n",
       "1   Consomme printaniere royal          NaN               8               8   \n",
       "2                Chicken gumbo          NaN             111             117   \n",
       "3          Tomato aux croutons          NaN              13              13   \n",
       "4              Onion au gratin          NaN              41              41   \n",
       "5                  St. Emilion          NaN              66              68   \n",
       "\n",
       "    first_appeared  last_appeared  lowest_price  highest_price  \n",
       "id                                                              \n",
       "1             1897           1927          0.20            0.4  \n",
       "2             1895           1960          0.10            0.8  \n",
       "3             1893           1917          0.25            0.4  \n",
       "4             1900           1971          0.25            1.0  \n",
       "5             1881           1981          0.00           18.0  "
      ]
     },
     "execution_count": 71,
     "metadata": {},
     "output_type": "execute_result"
    }
   ],
   "source": [
    "dish_df[:5]"
   ]
  },
  {
   "cell_type": "code",
   "execution_count": 72,
   "metadata": {},
   "outputs": [
    {
     "data": {
      "text/html": [
       "<div>\n",
       "<style>\n",
       "    .dataframe thead tr:only-child th {\n",
       "        text-align: right;\n",
       "    }\n",
       "\n",
       "    .dataframe thead th {\n",
       "        text-align: left;\n",
       "    }\n",
       "\n",
       "    .dataframe tbody tr th {\n",
       "        vertical-align: top;\n",
       "    }\n",
       "</style>\n",
       "<table border=\"1\" class=\"dataframe\">\n",
       "  <thead>\n",
       "    <tr style=\"text-align: right;\">\n",
       "      <th></th>\n",
       "      <th>id</th>\n",
       "      <th>menu_page_id</th>\n",
       "      <th>price</th>\n",
       "      <th>high_price</th>\n",
       "      <th>created_at</th>\n",
       "      <th>updated_at</th>\n",
       "      <th>xpos</th>\n",
       "      <th>ypos</th>\n",
       "    </tr>\n",
       "    <tr>\n",
       "      <th>dish_id</th>\n",
       "      <th></th>\n",
       "      <th></th>\n",
       "      <th></th>\n",
       "      <th></th>\n",
       "      <th></th>\n",
       "      <th></th>\n",
       "      <th></th>\n",
       "      <th></th>\n",
       "    </tr>\n",
       "  </thead>\n",
       "  <tbody>\n",
       "    <tr>\n",
       "      <th>1.0</th>\n",
       "      <td>1</td>\n",
       "      <td>1389</td>\n",
       "      <td>0.4</td>\n",
       "      <td>NaN</td>\n",
       "      <td>2011-03-28 15:00:44 UTC</td>\n",
       "      <td>2011-04-19 04:33:15 UTC</td>\n",
       "      <td>0.111429</td>\n",
       "      <td>0.254735</td>\n",
       "    </tr>\n",
       "    <tr>\n",
       "      <th>2.0</th>\n",
       "      <td>2</td>\n",
       "      <td>1389</td>\n",
       "      <td>0.6</td>\n",
       "      <td>NaN</td>\n",
       "      <td>2011-03-28 15:01:13 UTC</td>\n",
       "      <td>2011-04-19 15:00:54 UTC</td>\n",
       "      <td>0.438571</td>\n",
       "      <td>0.254735</td>\n",
       "    </tr>\n",
       "    <tr>\n",
       "      <th>3.0</th>\n",
       "      <td>3</td>\n",
       "      <td>1389</td>\n",
       "      <td>0.4</td>\n",
       "      <td>NaN</td>\n",
       "      <td>2011-03-28 15:01:40 UTC</td>\n",
       "      <td>2011-04-19 19:10:05 UTC</td>\n",
       "      <td>0.140000</td>\n",
       "      <td>0.261922</td>\n",
       "    </tr>\n",
       "    <tr>\n",
       "      <th>4.0</th>\n",
       "      <td>4</td>\n",
       "      <td>1389</td>\n",
       "      <td>0.5</td>\n",
       "      <td>NaN</td>\n",
       "      <td>2011-03-28 15:01:51 UTC</td>\n",
       "      <td>2011-04-19 19:07:01 UTC</td>\n",
       "      <td>0.377143</td>\n",
       "      <td>0.262720</td>\n",
       "    </tr>\n",
       "    <tr>\n",
       "      <th>5.0</th>\n",
       "      <td>5</td>\n",
       "      <td>3079</td>\n",
       "      <td>0.5</td>\n",
       "      <td>1.0</td>\n",
       "      <td>2011-03-28 15:21:26 UTC</td>\n",
       "      <td>2011-04-13 15:25:27 UTC</td>\n",
       "      <td>0.105714</td>\n",
       "      <td>0.313178</td>\n",
       "    </tr>\n",
       "  </tbody>\n",
       "</table>\n",
       "</div>"
      ],
      "text/plain": [
       "         id  menu_page_id  price  high_price               created_at  \\\n",
       "dish_id                                                                 \n",
       "1.0       1          1389    0.4         NaN  2011-03-28 15:00:44 UTC   \n",
       "2.0       2          1389    0.6         NaN  2011-03-28 15:01:13 UTC   \n",
       "3.0       3          1389    0.4         NaN  2011-03-28 15:01:40 UTC   \n",
       "4.0       4          1389    0.5         NaN  2011-03-28 15:01:51 UTC   \n",
       "5.0       5          3079    0.5         1.0  2011-03-28 15:21:26 UTC   \n",
       "\n",
       "                      updated_at      xpos      ypos  \n",
       "dish_id                                               \n",
       "1.0      2011-04-19 04:33:15 UTC  0.111429  0.254735  \n",
       "2.0      2011-04-19 15:00:54 UTC  0.438571  0.254735  \n",
       "3.0      2011-04-19 19:10:05 UTC  0.140000  0.261922  \n",
       "4.0      2011-04-19 19:07:01 UTC  0.377143  0.262720  \n",
       "5.0      2011-04-13 15:25:27 UTC  0.105714  0.313178  "
      ]
     },
     "execution_count": 72,
     "metadata": {},
     "output_type": "execute_result"
    }
   ],
   "source": [
    "item_df.head(5)"
   ]
  },
  {
   "cell_type": "markdown",
   "metadata": {},
   "source": [
    "Pandas integrates with the Notebook to display DataFrames as nice HTML tables. It's also possible to print a summary description of a DataFrame."
   ]
  },
  {
   "cell_type": "markdown",
   "metadata": {},
   "source": [
    "#### Clustering to Find Duplicate Values"
   ]
  },
  {
   "cell_type": "markdown",
   "metadata": {},
   "source": [
    "With a single function call, we can see how many different values we have in the 'name' column before we start de-duping"
   ]
  },
  {
   "cell_type": "code",
   "execution_count": 73,
   "metadata": {},
   "outputs": [
    {
     "name": "stdout",
     "output_type": "stream",
     "text": [
      "423363\n"
     ]
    }
   ],
   "source": [
    "unique_values_t0 = len(dish_df.name.unique())\n",
    "print (unique_values_t0)"
   ]
  },
  {
   "cell_type": "code",
   "execution_count": 74,
   "metadata": {},
   "outputs": [
    {
     "data": {
      "text/plain": [
       "423397"
      ]
     },
     "execution_count": 74,
     "metadata": {},
     "output_type": "execute_result"
    }
   ],
   "source": [
    "len(dish_df)"
   ]
  },
  {
   "cell_type": "markdown",
   "metadata": {},
   "source": [
    "Thats almost all of them"
   ]
  },
  {
   "cell_type": "code",
   "execution_count": 75,
   "metadata": {
    "collapsed": true
   },
   "outputs": [],
   "source": [
    "# Drop the 'description' column because it's empty and taking up screen real estate\n",
    "del dish_df['description']"
   ]
  },
  {
   "cell_type": "markdown",
   "metadata": {},
   "source": [
    "In order to find very similar values that we can identify as duplicates and normalize, I'll pursue the same series of steps I would take using Open Refine."
   ]
  },
  {
   "cell_type": "code",
   "execution_count": 76,
   "metadata": {
    "collapsed": true
   },
   "outputs": [],
   "source": [
    "def strip_and_lower(x):\n",
    "    \"\"\"\n",
    "    Basic string normalization:\n",
    "    1) strip leading and trailing whitespace\n",
    "    2) convert to lowercase\n",
    "    3) normalize internal whitespace (remove extra spaces between tokens)\n",
    "    \"\"\"\n",
    "    \n",
    "    tokens = x.strip().lower().split()\n",
    "    result = ' '.join(filter(None, tokens))\n",
    "    \n",
    "    return result\n",
    "\n",
    "# Apply the function to every value of name using map() — rather than, for instance, using a loop\n",
    "dish_df['name_modified'] = dish_df['name'].map(strip_and_lower)"
   ]
  },
  {
   "cell_type": "markdown",
   "metadata": {},
   "source": [
    "A new column has been created:"
   ]
  },
  {
   "cell_type": "code",
   "execution_count": 77,
   "metadata": {},
   "outputs": [
    {
     "data": {
      "text/html": [
       "<div>\n",
       "<style>\n",
       "    .dataframe thead tr:only-child th {\n",
       "        text-align: right;\n",
       "    }\n",
       "\n",
       "    .dataframe thead th {\n",
       "        text-align: left;\n",
       "    }\n",
       "\n",
       "    .dataframe tbody tr th {\n",
       "        vertical-align: top;\n",
       "    }\n",
       "</style>\n",
       "<table border=\"1\" class=\"dataframe\">\n",
       "  <thead>\n",
       "    <tr style=\"text-align: right;\">\n",
       "      <th></th>\n",
       "      <th>name</th>\n",
       "      <th>menus_appeared</th>\n",
       "      <th>times_appeared</th>\n",
       "      <th>first_appeared</th>\n",
       "      <th>last_appeared</th>\n",
       "      <th>lowest_price</th>\n",
       "      <th>highest_price</th>\n",
       "      <th>name_modified</th>\n",
       "    </tr>\n",
       "    <tr>\n",
       "      <th>id</th>\n",
       "      <th></th>\n",
       "      <th></th>\n",
       "      <th></th>\n",
       "      <th></th>\n",
       "      <th></th>\n",
       "      <th></th>\n",
       "      <th></th>\n",
       "      <th></th>\n",
       "    </tr>\n",
       "  </thead>\n",
       "  <tbody>\n",
       "    <tr>\n",
       "      <th>1</th>\n",
       "      <td>Consomme printaniere royal</td>\n",
       "      <td>8</td>\n",
       "      <td>8</td>\n",
       "      <td>1897</td>\n",
       "      <td>1927</td>\n",
       "      <td>0.20</td>\n",
       "      <td>0.4</td>\n",
       "      <td>consomme printaniere royal</td>\n",
       "    </tr>\n",
       "    <tr>\n",
       "      <th>2</th>\n",
       "      <td>Chicken gumbo</td>\n",
       "      <td>111</td>\n",
       "      <td>117</td>\n",
       "      <td>1895</td>\n",
       "      <td>1960</td>\n",
       "      <td>0.10</td>\n",
       "      <td>0.8</td>\n",
       "      <td>chicken gumbo</td>\n",
       "    </tr>\n",
       "    <tr>\n",
       "      <th>3</th>\n",
       "      <td>Tomato aux croutons</td>\n",
       "      <td>13</td>\n",
       "      <td>13</td>\n",
       "      <td>1893</td>\n",
       "      <td>1917</td>\n",
       "      <td>0.25</td>\n",
       "      <td>0.4</td>\n",
       "      <td>tomato aux croutons</td>\n",
       "    </tr>\n",
       "    <tr>\n",
       "      <th>4</th>\n",
       "      <td>Onion au gratin</td>\n",
       "      <td>41</td>\n",
       "      <td>41</td>\n",
       "      <td>1900</td>\n",
       "      <td>1971</td>\n",
       "      <td>0.25</td>\n",
       "      <td>1.0</td>\n",
       "      <td>onion au gratin</td>\n",
       "    </tr>\n",
       "    <tr>\n",
       "      <th>5</th>\n",
       "      <td>St. Emilion</td>\n",
       "      <td>66</td>\n",
       "      <td>68</td>\n",
       "      <td>1881</td>\n",
       "      <td>1981</td>\n",
       "      <td>0.00</td>\n",
       "      <td>18.0</td>\n",
       "      <td>st. emilion</td>\n",
       "    </tr>\n",
       "  </tbody>\n",
       "</table>\n",
       "</div>"
      ],
      "text/plain": [
       "                          name  menus_appeared  times_appeared  \\\n",
       "id                                                               \n",
       "1   Consomme printaniere royal               8               8   \n",
       "2                Chicken gumbo             111             117   \n",
       "3          Tomato aux croutons              13              13   \n",
       "4              Onion au gratin              41              41   \n",
       "5                  St. Emilion              66              68   \n",
       "\n",
       "    first_appeared  last_appeared  lowest_price  highest_price  \\\n",
       "id                                                               \n",
       "1             1897           1927          0.20            0.4   \n",
       "2             1895           1960          0.10            0.8   \n",
       "3             1893           1917          0.25            0.4   \n",
       "4             1900           1971          0.25            1.0   \n",
       "5             1881           1981          0.00           18.0   \n",
       "\n",
       "                 name_modified  \n",
       "id                              \n",
       "1   consomme printaniere royal  \n",
       "2                chicken gumbo  \n",
       "3          tomato aux croutons  \n",
       "4              onion au gratin  \n",
       "5                  st. emilion  "
      ]
     },
     "execution_count": 77,
     "metadata": {},
     "output_type": "execute_result"
    }
   ],
   "source": [
    "dish_df[:5]"
   ]
  },
  {
   "cell_type": "markdown",
   "metadata": {},
   "source": [
    "This should hekp identify some duplicates."
   ]
  },
  {
   "cell_type": "code",
   "execution_count": 78,
   "metadata": {},
   "outputs": [
    {
     "data": {
      "text/plain": [
       "423363"
      ]
     },
     "execution_count": 78,
     "metadata": {},
     "output_type": "execute_result"
    }
   ],
   "source": [
    "len(dish_df.name.unique())"
   ]
  },
  {
   "cell_type": "markdown",
   "metadata": {},
   "source": [
    "Not So."
   ]
  },
  {
   "cell_type": "markdown",
   "metadata": {},
   "source": [
    "Now, if we implement Open Refine-style clustering, we should find more candidates for de-duping."
   ]
  },
  {
   "cell_type": "code",
   "execution_count": 79,
   "metadata": {
    "collapsed": true
   },
   "outputs": [],
   "source": [
    "import re\n",
    "\n",
    "def fingerprint(x):\n",
    "    \"\"\"\n",
    "    A modified version of the fingerprint clustering algorithm implemented by Open Refine.\n",
    "    See https://github.com/OpenRefine/OpenRefine/wiki/Clustering-In-Depth\n",
    "    This does not normalize to ASCII characters since diacritics may be significant in this dataset\n",
    "    \"\"\"\n",
    "    alphanumeric_tokens = filter(None, re.split('\\W', x))\n",
    "    seen = set()\n",
    "    seen_add = seen.add\n",
    "    deduped = sorted([i for i in alphanumeric_tokens if i not in seen and not seen_add(i)])\n",
    "    fingerprint = ''.join(deduped)\n",
    "    \n",
    "    return fingerprint\n",
    "\n"
   ]
  },
  {
   "cell_type": "code",
   "execution_count": 80,
   "metadata": {},
   "outputs": [
    {
     "name": "stdout",
     "output_type": "stream",
     "text": [
      "Wall time: 2.63 s\n"
     ]
    }
   ],
   "source": [
    "%%time\n",
    "dish_df['fingerprint'] = dish_df['name_modified'].map(fingerprint)"
   ]
  },
  {
   "cell_type": "markdown",
   "metadata": {},
   "source": [
    "As opposed to 45 seconds from OpenRefine."
   ]
  },
  {
   "cell_type": "markdown",
   "metadata": {},
   "source": [
    "We can see the results as another new column"
   ]
  },
  {
   "cell_type": "code",
   "execution_count": 81,
   "metadata": {},
   "outputs": [
    {
     "data": {
      "text/html": [
       "<div>\n",
       "<style>\n",
       "    .dataframe thead tr:only-child th {\n",
       "        text-align: right;\n",
       "    }\n",
       "\n",
       "    .dataframe thead th {\n",
       "        text-align: left;\n",
       "    }\n",
       "\n",
       "    .dataframe tbody tr th {\n",
       "        vertical-align: top;\n",
       "    }\n",
       "</style>\n",
       "<table border=\"1\" class=\"dataframe\">\n",
       "  <thead>\n",
       "    <tr style=\"text-align: right;\">\n",
       "      <th></th>\n",
       "      <th>name</th>\n",
       "      <th>menus_appeared</th>\n",
       "      <th>times_appeared</th>\n",
       "      <th>first_appeared</th>\n",
       "      <th>last_appeared</th>\n",
       "      <th>lowest_price</th>\n",
       "      <th>highest_price</th>\n",
       "      <th>name_modified</th>\n",
       "      <th>fingerprint</th>\n",
       "    </tr>\n",
       "    <tr>\n",
       "      <th>id</th>\n",
       "      <th></th>\n",
       "      <th></th>\n",
       "      <th></th>\n",
       "      <th></th>\n",
       "      <th></th>\n",
       "      <th></th>\n",
       "      <th></th>\n",
       "      <th></th>\n",
       "      <th></th>\n",
       "    </tr>\n",
       "  </thead>\n",
       "  <tbody>\n",
       "    <tr>\n",
       "      <th>96</th>\n",
       "      <td>Coffee</td>\n",
       "      <td>7740</td>\n",
       "      <td>8484</td>\n",
       "      <td>1</td>\n",
       "      <td>2928</td>\n",
       "      <td>0.0</td>\n",
       "      <td>30.0</td>\n",
       "      <td>coffee</td>\n",
       "      <td>coffee</td>\n",
       "    </tr>\n",
       "    <tr>\n",
       "      <th>97</th>\n",
       "      <td>Tea</td>\n",
       "      <td>4159</td>\n",
       "      <td>4769</td>\n",
       "      <td>1858</td>\n",
       "      <td>2012</td>\n",
       "      <td>0.0</td>\n",
       "      <td>25.0</td>\n",
       "      <td>tea</td>\n",
       "      <td>tea</td>\n",
       "    </tr>\n",
       "    <tr>\n",
       "      <th>15</th>\n",
       "      <td>Celery</td>\n",
       "      <td>4246</td>\n",
       "      <td>4690</td>\n",
       "      <td>1</td>\n",
       "      <td>2928</td>\n",
       "      <td>0.0</td>\n",
       "      <td>50.0</td>\n",
       "      <td>celery</td>\n",
       "      <td>celery</td>\n",
       "    </tr>\n",
       "    <tr>\n",
       "      <th>1177</th>\n",
       "      <td>Olives</td>\n",
       "      <td>4319</td>\n",
       "      <td>4553</td>\n",
       "      <td>1858</td>\n",
       "      <td>1980</td>\n",
       "      <td>0.0</td>\n",
       "      <td>35.0</td>\n",
       "      <td>olives</td>\n",
       "      <td>olives</td>\n",
       "    </tr>\n",
       "    <tr>\n",
       "      <th>7</th>\n",
       "      <td>Radishes</td>\n",
       "      <td>3262</td>\n",
       "      <td>3346</td>\n",
       "      <td>1854</td>\n",
       "      <td>2928</td>\n",
       "      <td>0.0</td>\n",
       "      <td>25.0</td>\n",
       "      <td>radishes</td>\n",
       "      <td>radishes</td>\n",
       "    </tr>\n",
       "  </tbody>\n",
       "</table>\n",
       "</div>"
      ],
      "text/plain": [
       "          name  menus_appeared  times_appeared  first_appeared  last_appeared  \\\n",
       "id                                                                              \n",
       "96      Coffee            7740            8484               1           2928   \n",
       "97         Tea            4159            4769            1858           2012   \n",
       "15      Celery            4246            4690               1           2928   \n",
       "1177    Olives            4319            4553            1858           1980   \n",
       "7     Radishes            3262            3346            1854           2928   \n",
       "\n",
       "      lowest_price  highest_price name_modified fingerprint  \n",
       "id                                                           \n",
       "96             0.0           30.0        coffee      coffee  \n",
       "97             0.0           25.0           tea         tea  \n",
       "15             0.0           50.0        celery      celery  \n",
       "1177           0.0           35.0        olives      olives  \n",
       "7              0.0           25.0      radishes    radishes  "
      ]
     },
     "execution_count": 81,
     "metadata": {},
     "output_type": "execute_result"
    }
   ],
   "source": [
    "top5 = dish_df.sort_values(['times_appeared'],ascending=False).head(5)\n",
    "top5"
   ]
  },
  {
   "cell_type": "markdown",
   "metadata": {},
   "source": [
    "To see the \"clusters\" of potential duplicate name values that the fingerprinting method identifies, we can group the data by the contents of the fingerprint column"
   ]
  },
  {
   "cell_type": "code",
   "execution_count": 82,
   "metadata": {},
   "outputs": [
    {
     "data": {
      "text/plain": [
       "fingerprint\n",
       "friedpotatoessweet                                                                                        54\n",
       "frenchfriedpotatoes                                                                                       50\n",
       "boiledpotatoes                                                                                            48\n",
       "2eggsonpoachedtoast                                                                                       48\n",
       "augratinpotatoes                                                                                          46\n",
       "dryextraghmumms                                                                                           45\n",
       "alecgingerimported                                                                                        43\n",
       "beefcoldroast                                                                                             42\n",
       "creamhashedinpotatoes                                                                                     42\n",
       "eggsfriedtwo                                                                                              42\n",
       "creamicevanilla                                                                                           40\n",
       "mashedpotatoes                                                                                            40\n",
       "codryextraghmumm                                                                                          40\n",
       "brownedhashedpotatoes                                                                                     39\n",
       "broiledchickenhalf                                                                                        39\n",
       "codryextraghmumms                                                                                         38\n",
       "2boiledeggs                                                                                               38\n",
       "beefhotroastsandwich                                                                                      38\n",
       "chocolatecreamice                                                                                         37\n",
       "clamslittlenecks                                                                                          36\n",
       "beefcoldcorned                                                                                            36\n",
       "lyonnaisepotatoes                                                                                         35\n",
       "alebassdogheads                                                                                           34\n",
       "boiledeggstwo                                                                                             34\n",
       "bakedpotatoes                                                                                             33\n",
       "americancheese                                                                                            33\n",
       "creaminpotatoesstewed                                                                                     33\n",
       "2eggsfried                                                                                                32\n",
       "beefcoldroastsandwich                                                                                     32\n",
       "brownhashedpotatoes                                                                                       31\n",
       "                                                                                                          ..\n",
       "christmasroaststuffedtomturkeyyoung                                                                        1\n",
       "christmassaisonsalad                                                                                       1\n",
       "christmassalad                                                                                             1\n",
       "christoconsommemonte                                                                                       1\n",
       "christocreamicemontepave                                                                                   1\n",
       "christofdeinhardhannsliebfraumilch                                                                         1\n",
       "christoglacemontepave                                                                                      1\n",
       "christohechtmontesauce                                                                                     1\n",
       "christokrebsschwanzemonte                                                                                  1\n",
       "christolangustenmonte                                                                                      1\n",
       "christmasmenu                                                                                              1\n",
       "christmaslambroast                                                                                         1\n",
       "christilacrimesparkling                                                                                    1\n",
       "christmaslambofrichelieusaddle                                                                             1\n",
       "christilacrinawhite                                                                                        1\n",
       "christilacryma                                                                                             1\n",
       "christilacrymaspumante                                                                                     1\n",
       "christlacrimaredstillwine                                                                                  1\n",
       "christmascolbertlambofsaddlesauce                                                                          1\n",
       "christmascookiesgerman                                                                                     1\n",
       "christmascranberrycressonphiladelphiaroastsaucestuffingthymeturkey                                         1\n",
       "christmascranberrysaucestuffedturkey                                                                       1\n",
       "christmascranberrysauceturkey                                                                              1\n",
       "christmascreamicemelbasauceturkey                                                                          1\n",
       "christmascressonphiladelphiaroaststuffingthymeturkey                                                       1\n",
       "christmasdaydinner                                                                                         1\n",
       "christmasdinner                                                                                            1\n",
       "christmasfrozenlog                                                                                         1\n",
       "christmashardplumpuddingsauce                                                                              1\n",
       "broiledbutteredclubdressinggrillhamlettuceofonpotatorussiansaladslicedslicesthreetoasttomatoturkeytwin     1\n",
       "Length: 343646, dtype: int64"
      ]
     },
     "execution_count": 82,
     "metadata": {},
     "output_type": "execute_result"
    }
   ],
   "source": [
    "clusters = dish_df.groupby('fingerprint')\n",
    "\n",
    "# Order the clusters by size\n",
    "s = clusters.size()\n",
    "sorted_cluster_size = s.sort_values(ascending=False)\n",
    "sorted_cluster_size"
   ]
  },
  {
   "cell_type": "markdown",
   "metadata": {},
   "source": [
    "We might want to know what scope of variation there is in the size of the clusters. This can be accomplished with 1 line:,"
   ]
  },
  {
   "cell_type": "code",
   "execution_count": 83,
   "metadata": {},
   "outputs": [
    {
     "data": {
      "text/plain": [
       "1     303039\n",
       "2      26068\n",
       "3       6974\n",
       "4       2981\n",
       "5       1586\n",
       "6        931\n",
       "7        583\n",
       "8        346\n",
       "9        274\n",
       "10       195\n",
       "11       165\n",
       "12       110\n",
       "13        63\n",
       "14        57\n",
       "15        46\n",
       "16        36\n",
       "17        27\n",
       "18        23\n",
       "19        22\n",
       "20        21\n",
       "21        15\n",
       "22        10\n",
       "25         9\n",
       "26         8\n",
       "24         6\n",
       "23         6\n",
       "31         6\n",
       "38         3\n",
       "27         3\n",
       "28         3\n",
       "42         3\n",
       "40         3\n",
       "33         3\n",
       "48         2\n",
       "39         2\n",
       "36         2\n",
       "34         2\n",
       "32         2\n",
       "30         2\n",
       "29         2\n",
       "50         1\n",
       "37         1\n",
       "35         1\n",
       "43         1\n",
       "45         1\n",
       "46         1\n",
       "54         1\n",
       "dtype: int64"
      ]
     },
     "execution_count": 83,
     "metadata": {},
     "output_type": "execute_result"
    }
   ],
   "source": [
    "value_counts = s.value_counts()\n",
    "value_counts"
   ]
  },
  {
   "cell_type": "markdown",
   "metadata": {},
   "source": [
    "So, by this measure, there are still 303,039 singleton values (down from 400k+), but there are 26,068 two-item clusters that could be normalized, etc."
   ]
  },
  {
   "cell_type": "markdown",
   "metadata": {},
   "source": [
    "The print display of the various clusters above shows only the fingerprint value and the count of rows that share that common value but this is not the most immediately-apprehensible way of seeing what's going on. For clarity, let's print the 5 largest clusters:"
   ]
  },
  {
   "cell_type": "code",
   "execution_count": 84,
   "metadata": {},
   "outputs": [
    {
     "name": "stdout",
     "output_type": "stream",
     "text": [
      "id\n",
      "1066        G. H. Mumm's Extra Dry\n",
      "1744        G.H. MUMM'S, EXTRA DRY\n",
      "3650         G.H. Mumm's Extra Dry\n",
      "12714     G. H. Mumm's [Extra Dry]\n",
      "14286     G. H. Mumm's (Extra Dry)\n",
      "18686      G. H. Mumm's, Extra Dry\n",
      "22660      G.H. Mumm's (Extra Dry)\n",
      "26493       G.H.Mumm's (Extra Dry)\n",
      "34081       G.H. Mumm's Extra  Dry\n",
      "34309     G. H. MUMMS (Extra Dry).\n",
      "41694     G. H. Mumm's , Extra Dry\n",
      "50208        GH. Mumms (Extra Dry)\n",
      "51272      G. H Mumm's [Extra Dry]\n",
      "64380         G.H.Mumm's Extra Dry\n",
      "114828      G H MUMM'S (EXTRA DRY)\n",
      "409627      G.H. Mumm's, Extra Dry\n",
      "418578       G H Mumm's, Extra Dry\n",
      "418892        G H Mumm's Extra Dry\n",
      "420331      G  H  Mumm's Extra Dry\n",
      "420397         G H Mumms extra dry\n",
      "421945        G H MUMM'S EXTRA DRY\n",
      "422369       G H  Mumm's Extra Dry\n",
      "428521        G H Mumms' Extra Dry\n",
      "431581       G H MUMMS (Extra Dry)\n",
      "436395        G H Mumm's extra dry\n",
      "437121      G. H. Mumms, Extra Dry\n",
      "438947     G. H. Mumm's Extra Dry \n",
      "439732       G H Mumm's Extra Dry \n",
      "440775      G. H. MUMM'S EXTRA DRY\n",
      "441784    G. H. MUMM'S (Extra Dry)\n",
      "447835       G H Mumms (Extra Dry)\n",
      "451231         G H MUMMS EXTRA DRY\n",
      "452795       G H MUMM'S, EXTRA DRY\n",
      "460477      g. h. mumm's extra dry\n",
      "470927       G.H. MUMM'S EXTRA DRY\n",
      "473825         GH MUMM'S EXTRA DRY\n",
      "473870       G.H. Mumm's extra dry\n",
      "474694       G.H. mumm's extra dry\n",
      "477202         G H Mumms Extra Dry\n",
      "479301     G. H. Mumm's, Extra dry\n",
      "481604        G H Mumm's Extra dry\n",
      "483249      G. H. MUMMS' EXTRA DRY\n",
      "497055      G H Mumm's, Extra Dry \n",
      "498004     G. H. Mumm's, extra dry\n",
      "498032      G. H. Mumm's extra dry\n",
      "Name: name, dtype: object\n",
      "id\n",
      "2759        Potatoes, au gratin\n",
      "7176         Potatoes au Gratin\n",
      "8373        Potatoes--Au gratin\n",
      "35728       Potatoes: au gratin\n",
      "44271        Au Gratin Potatoes\n",
      "84510      Au Gratin (Potatoes)\n",
      "94968     Potatoes, au Gratin, \n",
      "97166      POTATOES:- Au gratin\n",
      "185040     Au Gratin [potatoes]\n",
      "313168      Au Gratin  Potatoes\n",
      "315697     (Potatoes) Au Gratin\n",
      "325940       Au Gratin Potatoes\n",
      "330420       au-Gratin Potatoes\n",
      "353435     Potatoes:  Au gratin\n",
      "373639       Potatoes Au Gratin\n",
      "376396     Potatoes - au gratin\n",
      "376414      Potatoes, Au Gratin\n",
      "378597       Au gratin potatoes\n",
      "378732       Potatoes au gratin\n",
      "379157      Potatoes, au Gratin\n",
      "379534        Potatoes AuGratin\n",
      "379829     [Potatoes] au gratin\n",
      "380247     [Potatoes] Au Gratin\n",
      "380907      Potatoes au Gratin \n",
      "383920       Au gratin Potatoes\n",
      "385327      Potatoes Au Gratin \n",
      "385777       Au Gratin potatoes\n",
      "387869       Potatoes Au gratin\n",
      "388838       potatoes au gratin\n",
      "389716     Potatoes - Au gratin\n",
      "391056      POTATOES: Au Gratin\n",
      "398307      Potatoes: Au gratin\n",
      "398348       Potatoes-Au gratin\n",
      "414322       au gratin potatoes\n",
      "414927      Potatoes -Au Gratin\n",
      "420093       POTATOES Au Gratin\n",
      "435770      Potatoes, Au gratin\n",
      "441471      POTATOES: AU GRATIN\n",
      "448532     POTATOES - Au gratin\n",
      "450243       POTATOES AU GRATIN\n",
      "453840      potatoes, au gratin\n",
      "481049       POTATOES Au gratin\n",
      "488858     Au gratin (potatoes)\n",
      "488990     Potatoes-- Au gratin\n",
      "493128     [Potatoes] au Gratin\n",
      "515003       Au gratin POTATOES\n",
      "Name: name, dtype: object\n",
      "id\n",
      "22361       Poached Eggs (2) on toast\n",
      "22562        Eggs, 2 Poached on Toast\n",
      "22763         2 Poached Eggs on Toast\n",
      "31324     Eggs, Poached on toast (2) \n",
      "48043       Eggs poached on toast (2)\n",
      "51940       Poached eggs on toast (2)\n",
      "79275      2 Poached  (Eggs) on Toast\n",
      "81059      Eggs Poached (2), on Toast\n",
      "81421        2 Eggs, poached on toast\n",
      "90960       2 Poached (eggs) on Toast\n",
      "91432       2 (Eggs) Poached on Toast\n",
      "108224       Poached Eggs, 2 on toast\n",
      "111031     Poached Eggs on Toast, [2]\n",
      "127128     Eggs, Poached (2) on Toast\n",
      "128696      Eggs (2) poached on toast\n",
      "183077      EGGS Poached (2) on Toast\n",
      "206923       2 Poached on Toast, Eggs\n",
      "224031       Eggs: 2 Poached on Toast\n",
      "296286    Eggs - Poached on Toast (2)\n",
      "334815      (2) Poached Eggs on Toast\n",
      "369966     Eggs (2), Poached on Toast\n",
      "375226      Eggs, poached on toast(2)\n",
      "376027     Eggs, poached on toast (2)\n",
      "376449    EGGS, poached on toast (2) \n",
      "376635    [EGGS] poached on toast (2)\n",
      "376746     EGGS, poached on toast (2)\n",
      "377100     Poached eggs (2), on toast\n",
      "380354     EGGS  poached on toast (2)\n",
      "381711        2 Poached Eggs on toast\n",
      "382721     EGGS, poached on toast [2]\n",
      "383950      Poached Eggs on Toast (2)\n",
      "389804      Poached eggs on Toast (2)\n",
      "399299       2 Eggs, Poached on Toast\n",
      "408143      Poached eggs (2) on toast\n",
      "417205     Eggs, poached on toast [2]\n",
      "433441        2 eggs poached on toast\n",
      "440712     Eggs, Poached on Toast (2)\n",
      "442689      Eggs poached on toast [2]\n",
      "445035       2 eggs, poached on toast\n",
      "452711     POACHED EGGS ON TOAST  (2)\n",
      "458993     Eggs, Poached on Toast [2]\n",
      "465510      EGGS poached on toast (2)\n",
      "466056      EGGS poached on toast [2]\n",
      "476441     Eggs poached, on toast (2)\n",
      "481648        2 Eggs Poached on Toast\n",
      "506867     eggs, poached on toast [2]\n",
      "507799      2 Eggs, Poached, on Toast\n",
      "508120      2 eggs, poached, on toast\n",
      "Name: name, dtype: object\n",
      "id\n",
      "219           Boiled potatoes\n",
      "2752         Potatoes, boiled\n",
      "4290         Potatoes--Boiled\n",
      "17902        Boiled Potatoes,\n",
      "20308         Potatoes Boiled\n",
      "31198        Potatoes: boiled\n",
      "34056        Boiled Potatoes.\n",
      "37644       Potatoes - Boiled\n",
      "40611         Boiled Potatoes\n",
      "44255       Boiled (potatoes)\n",
      "59475       Boiled [Potatoes]\n",
      "63979         POTATOES-boiled\n",
      "74342         Potatoes Boiled\n",
      "76369        POTATOES  Boiled\n",
      "85397       Potatoes , boiled\n",
      "94958       Potatoes, Boiled,\n",
      "97154       Potatoes:- Boiled\n",
      "125408      POTATOES: *Boiled\n",
      "194143       Boiled  Potatoes\n",
      "199538        Boiled-Potatoes\n",
      "225209      Potatoes:--boiled\n",
      "362463      Potatoes---Boiled\n",
      "374956        Boiled Potatoes\n",
      "376397       Potatoes, Boiled\n",
      "379856    Potatoes -- Boiled \n",
      "380179     Potatoes -- Boiled\n",
      "380244      Boiled [potatoes]\n",
      "385714       potatoes, boiled\n",
      "389060       *Boiled Potatoes\n",
      "394137        boiled potatoes\n",
      "394579        Boiled POTATOES\n",
      "395878        BOILED POTATOES\n",
      "398306       Potatoes: Boiled\n",
      "398346        Potatoes-Boiled\n",
      "401302        Potatoes boiled\n",
      "407244      Potatoes - boiled\n",
      "412613      Potatoes, boiled \n",
      "426362       Potatoes boiled \n",
      "427434         BoiledPotatoes\n",
      "427492       Potatoes Boiled \n",
      "432003       Boiled Potatoes \n",
      "436408      Potatoes, Boiled \n",
      "451614       POTATOES--Boiled\n",
      "452667      POTATOES - Boiled\n",
      "465416       POTATOES: Boiled\n",
      "471029       Boiled potatoes.\n",
      "478033       POTATOES.Boiled.\n",
      "488988      Potatoes-- Boiled\n",
      "Name: name, dtype: object\n",
      "id\n",
      "1259         French fried potatoes\n",
      "2761        Potatoes, French fried\n",
      "11893      Potatoes---French Fried\n",
      "14987       Potatoes: French fried\n",
      "17047      French fried [potatoes]\n",
      "17949      Potatoes - French Fried\n",
      "18441        Potatoes French fried\n",
      "21120        Potatoes-French Fried\n",
      "21264       Potatoes--French Fried\n",
      "29043     POTATOES:  French Fried.\n",
      "32765       Potatoes French, fried\n",
      "35844       French Fried Potatoes.\n",
      "37852      French Fried (POTATOES)\n",
      "39455      Potatoes, French, fried\n",
      "57562       Potatoes- French Fried\n",
      "74346        Potatoes French Fried\n",
      "76376       POTATOES  French Fried\n",
      "97164      POTATOES:- French fried\n",
      "100589    Potatoes - French Fried,\n",
      "112767     Potatoes, Fried, French\n",
      "147020     Potatoes:  French Fried\n",
      "181396    Potatoes -- French Fried\n",
      "248905       French Fried Potatoes\n",
      "328845       French-Fried Potatoes\n",
      "373638       Potatoes French Fried\n",
      "375011       French Fried Potatoes\n",
      "376400      Potatoes, French Fried\n",
      "376487      Potatoes: French Fried\n",
      "376508     Potatoes - French fried\n",
      "379156       French Fried potatoes\n",
      "379828     French Fried [Potatoes]\n",
      "386120      Potatoes, french fried\n",
      "387212      Potatoes--French fried\n",
      "387671     French Fried (potatoes)\n",
      "393034       French fried Potatoes\n",
      "395877       FRENCH FRIED POTATOES\n",
      "398352       Potatoes-French fried\n",
      "401306       Potatoes french fried\n",
      "401838      French  fried potatoes\n",
      "404612     Potatoes:  French fried\n",
      "407806      French fried potatoes \n",
      "410281       french fried potatoes\n",
      "410591     Potatoes: French fried \n",
      "436571     POTATOES - French Fried\n",
      "441467      POTATOES: FRENCH FRIED\n",
      "455232      potatoes, french fried\n",
      "473731      POTATOES--FRENCH FRIED\n",
      "488850     French fried (potatoes)\n",
      "488997     Potatoes-- French fried\n",
      "496164     Potatoes - french fried\n",
      "Name: name, dtype: object\n"
     ]
    }
   ],
   "source": [
    "\n",
    "for f in s.sort_values()[-6:-1].index:\n",
    "    print(dish_df[dish_df.fingerprint == f].name)"
   ]
  },
  {
   "cell_type": "markdown",
   "metadata": {},
   "source": [
    "At a glance these do indeed look like values that should be normalized to a single \"name\". Since the default way that IPython prints a Pandas Series object includes the 'id', it is easy to construct URLs to allow for some sanity checking. \n",
    "\n"
   ]
  },
  {
   "cell_type": "code",
   "execution_count": 85,
   "metadata": {},
   "outputs": [
    {
     "name": "stdout",
     "output_type": "stream",
     "text": [
      "http://menus.nypl.org/dishes/1259\n",
      "http://menus.nypl.org/dishes/2761\n",
      "http://menus.nypl.org/dishes/11893\n",
      "http://menus.nypl.org/dishes/14987\n",
      "http://menus.nypl.org/dishes/17047\n",
      "http://menus.nypl.org/dishes/17949\n",
      "http://menus.nypl.org/dishes/18441\n",
      "http://menus.nypl.org/dishes/21120\n",
      "http://menus.nypl.org/dishes/21264\n",
      "http://menus.nypl.org/dishes/29043\n",
      "http://menus.nypl.org/dishes/32765\n",
      "http://menus.nypl.org/dishes/35844\n",
      "http://menus.nypl.org/dishes/37852\n",
      "http://menus.nypl.org/dishes/39455\n",
      "http://menus.nypl.org/dishes/57562\n",
      "http://menus.nypl.org/dishes/74346\n",
      "http://menus.nypl.org/dishes/76376\n",
      "http://menus.nypl.org/dishes/97164\n",
      "http://menus.nypl.org/dishes/100589\n",
      "http://menus.nypl.org/dishes/112767\n",
      "http://menus.nypl.org/dishes/147020\n",
      "http://menus.nypl.org/dishes/181396\n",
      "http://menus.nypl.org/dishes/248905\n",
      "http://menus.nypl.org/dishes/328845\n",
      "http://menus.nypl.org/dishes/373638\n",
      "http://menus.nypl.org/dishes/375011\n",
      "http://menus.nypl.org/dishes/376400\n",
      "http://menus.nypl.org/dishes/376487\n",
      "http://menus.nypl.org/dishes/376508\n",
      "http://menus.nypl.org/dishes/379156\n",
      "http://menus.nypl.org/dishes/379828\n",
      "http://menus.nypl.org/dishes/386120\n",
      "http://menus.nypl.org/dishes/387212\n",
      "http://menus.nypl.org/dishes/387671\n",
      "http://menus.nypl.org/dishes/393034\n",
      "http://menus.nypl.org/dishes/395877\n",
      "http://menus.nypl.org/dishes/398352\n",
      "http://menus.nypl.org/dishes/401306\n",
      "http://menus.nypl.org/dishes/401838\n",
      "http://menus.nypl.org/dishes/404612\n",
      "http://menus.nypl.org/dishes/407806\n",
      "http://menus.nypl.org/dishes/410281\n",
      "http://menus.nypl.org/dishes/410591\n",
      "http://menus.nypl.org/dishes/436571\n",
      "http://menus.nypl.org/dishes/441467\n",
      "http://menus.nypl.org/dishes/455232\n",
      "http://menus.nypl.org/dishes/473731\n",
      "http://menus.nypl.org/dishes/488850\n",
      "http://menus.nypl.org/dishes/488997\n",
      "http://menus.nypl.org/dishes/496164\n",
      "50\n"
     ]
    }
   ],
   "source": [
    "testing_cluster = dish_df[dish_df.fingerprint == 'frenchfriedpotatoes']\n",
    "\n",
    "for item in testing_cluster.index.tolist():\n",
    "    url = \"http://menus.nypl.org/dishes/{0}\".format(item)\n",
    "    print(url)\n",
    "print(len(testing_cluster))"
   ]
  },
  {
   "cell_type": "markdown",
   "metadata": {},
   "source": [
    "#### Better Dish Statistics"
   ]
  },
  {
   "cell_type": "markdown",
   "metadata": {},
   "source": [
    "Identifying the clusters is great and we can use this information not only to improve the quality of the curated data set but also to clarify and improve analysis of the data about dish frequencies and \"timespans.\" For the purposes of example, I'll use the \"french fried potatoes\" cluster.\n",
    "\n",
    "With 50 values to choose from, what should we select for a normalized value? How about the most common string already represented in the cluster?"
   ]
  },
  {
   "cell_type": "code",
   "execution_count": 86,
   "metadata": {},
   "outputs": [
    {
     "name": "stdout",
     "output_type": "stream",
     "text": [
      "Most common value: 'French fried potatoes'\n"
     ]
    }
   ],
   "source": [
    "\n",
    "result_df=(dish_df[dish_df.fingerprint == 'frenchfriedpotatoes'])\n",
    "   \n",
    "\n",
    "# Get the number of times appeared for each result by selecting that column (Series) and sort in descending order\n",
    "by_appearance = result_df.times_appeared.sort_values(ascending=False)\n",
    "\n",
    "#Use the index of the max value to look up the most common value for the name\n",
    "print (\"Most common value: '{0}'\".format(dish_df.name[by_appearance.idxmax()]))\n"
   ]
  },
  {
   "cell_type": "markdown",
   "metadata": {},
   "source": [
    "Does clustering the values change the number of times a dish appeared or the earliest and latest dates it appears?"
   ]
  },
  {
   "cell_type": "code",
   "execution_count": 87,
   "metadata": {},
   "outputs": [
    {
     "name": "stdout",
     "output_type": "stream",
     "text": [
      "id\n",
      "1259     1409\n",
      "2761      249\n",
      "11893       1\n",
      "14987      23\n",
      "17047       3\n",
      "Name: times_appeared, dtype: int64\n"
     ]
    }
   ],
   "source": [
    "print(result_df.times_appeared[:5])"
   ]
  },
  {
   "cell_type": "markdown",
   "metadata": {},
   "source": [
    "According to this data (it varies slightly from what appears on [the web site](http://menus.nypl.org/dishes/1259)), the dish with id 1259 and name 'French fried potatoes' appears 1,409 times. Dish 2761 (name \"Potatoes, French Fried\") appears 249 times, etc.\n",
    "\n",
    "If we assert that all of these instances are in fact the same type of dish, we can quickly calculate a new total for how often this dish appears on the menus in the data set."
   ]
  },
  {
   "cell_type": "code",
   "execution_count": 88,
   "metadata": {},
   "outputs": [
    {
     "name": "stdout",
     "output_type": "stream",
     "text": [
      "French fries appeared 2224 times in the menus digitized by NYPL.\n"
     ]
    }
   ],
   "source": [
    "total_appearances = result_df.times_appeared.sum()\n",
    "print (\"French fries appeared {0} times in the menus digitized by NYPL.\".format(total_appearances))"
   ]
  },
  {
   "cell_type": "markdown",
   "metadata": {},
   "source": [
    "We can do something similar for the date ranges. (It isn't even necessary to do anything with the data type of the values for first_appeared and last_appeared.)"
   ]
  },
  {
   "cell_type": "code",
   "execution_count": 89,
   "metadata": {},
   "outputs": [
    {
     "name": "stdout",
     "output_type": "stream",
     "text": [
      "French fries first appeared on a menu in 1884 and last appeared on a menu in 1989.\n"
     ]
    }
   ],
   "source": [
    "aggregate_first_appeared = justGreaterThan1851(result_df.first_appeared.tolist())\n",
    "aggregate_last_appeared = justLesserThan2012(result_df.last_appeared.tolist())\n",
    "print(\"French fries first appeared on a menu in {0} and last appeared on a menu in {1}.\"\\\n",
    ".format(aggregate_first_appeared, aggregate_last_appeared))"
   ]
  },
  {
   "cell_type": "markdown",
   "metadata": {},
   "source": [
    "For an apparently ever-popular dish like 'French fried potatoes' this 100-or-so year range is not that different from what appears on the page for the most-popular variant [(Dish 1259)](http://menus.nypl.org/dishes/1259). The aggregate values might shift more for other dishes."
   ]
  },
  {
   "cell_type": "markdown",
   "metadata": {},
   "source": [
    "Of course, there are also still 'pommes frites' to account for &hellip;"
   ]
  },
  {
   "cell_type": "markdown",
   "metadata": {},
   "source": [
    "#### Plotting Results\n",
    "\n",
    "Reproducing NYPL's lovely appearance by year frequency plots takes a little more doing but it provides a good opportunity to demonstrate the facilities that Pandas provides for pulling together different sets of data using SQL-like mechanisms."
   ]
  },
  {
   "cell_type": "code",
   "execution_count": 90,
   "metadata": {
    "collapsed": true
   },
   "outputs": [],
   "source": [
    "# Load data from the other CSV files included in the NYPL's regular data dumps because we'll need it all \n",
    "page_data = '../Dataset/MenuPage.csv'\n",
    "page_df = pd.read_csv(page_data, index_col='id')\n",
    "\n",
    "menu_data = '../Cleaned Data/Menu/Menu-Clean.csv'\n",
    "menu_df = pd.read_csv(menu_data, index_col='id', parse_dates=True,encoding='latin1')"
   ]
  },
  {
   "cell_type": "markdown",
   "metadata": {},
   "source": [
    "(For this final bit, I'm not entirely confident that I'm doing this in the best way. It seems to \"work\" but it feels a little verbose. Caveat lector.)"
   ]
  },
  {
   "cell_type": "code",
   "execution_count": 91,
   "metadata": {
    "collapsed": true
   },
   "outputs": [],
   "source": [
    "# This should create a DataFrame from the Menu Items data set that contains \n",
    "# only \"rows\" related to our example cluster of 'French fried potato' dishes\n",
    "lookup_items_df=item_df[item_df.index.isin(result_df.index)]"
   ]
  },
  {
   "cell_type": "code",
   "execution_count": 92,
   "metadata": {},
   "outputs": [
    {
     "data": {
      "text/html": [
       "<div>\n",
       "<style>\n",
       "    .dataframe thead tr:only-child th {\n",
       "        text-align: right;\n",
       "    }\n",
       "\n",
       "    .dataframe thead th {\n",
       "        text-align: left;\n",
       "    }\n",
       "\n",
       "    .dataframe tbody tr th {\n",
       "        vertical-align: top;\n",
       "    }\n",
       "</style>\n",
       "<table border=\"1\" class=\"dataframe\">\n",
       "  <thead>\n",
       "    <tr style=\"text-align: right;\">\n",
       "      <th></th>\n",
       "      <th>id</th>\n",
       "      <th>menu_page_id</th>\n",
       "      <th>price</th>\n",
       "      <th>high_price</th>\n",
       "      <th>created_at</th>\n",
       "      <th>updated_at</th>\n",
       "      <th>xpos</th>\n",
       "      <th>ypos</th>\n",
       "    </tr>\n",
       "    <tr>\n",
       "      <th>dish_id</th>\n",
       "      <th></th>\n",
       "      <th></th>\n",
       "      <th></th>\n",
       "      <th></th>\n",
       "      <th></th>\n",
       "      <th></th>\n",
       "      <th></th>\n",
       "      <th></th>\n",
       "    </tr>\n",
       "  </thead>\n",
       "  <tbody>\n",
       "    <tr>\n",
       "      <th>1259.0</th>\n",
       "      <td>454</td>\n",
       "      <td>5217</td>\n",
       "      <td>NaN</td>\n",
       "      <td>NaN</td>\n",
       "      <td>2011-04-19 03:29:41 UTC</td>\n",
       "      <td>2011-10-05 21:07:14 UTC</td>\n",
       "      <td>0.342857</td>\n",
       "      <td>0.761442</td>\n",
       "    </tr>\n",
       "    <tr>\n",
       "      <th>1259.0</th>\n",
       "      <td>530</td>\n",
       "      <td>130</td>\n",
       "      <td>NaN</td>\n",
       "      <td>NaN</td>\n",
       "      <td>2011-04-19 13:17:01 UTC</td>\n",
       "      <td>2011-05-13 05:14:16 UTC</td>\n",
       "      <td>0.667143</td>\n",
       "      <td>0.735197</td>\n",
       "    </tr>\n",
       "    <tr>\n",
       "      <th>1259.0</th>\n",
       "      <td>1194</td>\n",
       "      <td>6471</td>\n",
       "      <td>NaN</td>\n",
       "      <td>NaN</td>\n",
       "      <td>2011-04-19 19:22:19 UTC</td>\n",
       "      <td>2011-05-06 18:52:50 UTC</td>\n",
       "      <td>0.315714</td>\n",
       "      <td>0.747705</td>\n",
       "    </tr>\n",
       "    <tr>\n",
       "      <th>1259.0</th>\n",
       "      <td>1792</td>\n",
       "      <td>134</td>\n",
       "      <td>NaN</td>\n",
       "      <td>NaN</td>\n",
       "      <td>2011-04-19 20:42:20 UTC</td>\n",
       "      <td>2011-04-19 20:42:20 UTC</td>\n",
       "      <td>0.550000</td>\n",
       "      <td>0.685084</td>\n",
       "    </tr>\n",
       "    <tr>\n",
       "      <th>1259.0</th>\n",
       "      <td>2093</td>\n",
       "      <td>146</td>\n",
       "      <td>NaN</td>\n",
       "      <td>NaN</td>\n",
       "      <td>2011-04-19 22:22:22 UTC</td>\n",
       "      <td>2011-04-19 22:22:22 UTC</td>\n",
       "      <td>0.568571</td>\n",
       "      <td>0.683963</td>\n",
       "    </tr>\n",
       "    <tr>\n",
       "      <th>1259.0</th>\n",
       "      <td>2953</td>\n",
       "      <td>1627</td>\n",
       "      <td>NaN</td>\n",
       "      <td>NaN</td>\n",
       "      <td>2011-04-20 02:18:30 UTC</td>\n",
       "      <td>2011-04-20 02:18:30 UTC</td>\n",
       "      <td>0.508571</td>\n",
       "      <td>0.623720</td>\n",
       "    </tr>\n",
       "    <tr>\n",
       "      <th>1259.0</th>\n",
       "      <td>3715</td>\n",
       "      <td>4783</td>\n",
       "      <td>0.10</td>\n",
       "      <td>NaN</td>\n",
       "      <td>2011-04-20 05:06:28 UTC</td>\n",
       "      <td>2011-10-02 16:31:41 UTC</td>\n",
       "      <td>0.301429</td>\n",
       "      <td>0.338671</td>\n",
       "    </tr>\n",
       "    <tr>\n",
       "      <th>2761.0</th>\n",
       "      <td>3966</td>\n",
       "      <td>3531</td>\n",
       "      <td>0.10</td>\n",
       "      <td>NaN</td>\n",
       "      <td>2011-04-20 05:25:58 UTC</td>\n",
       "      <td>2011-04-20 05:25:58 UTC</td>\n",
       "      <td>0.342857</td>\n",
       "      <td>0.477359</td>\n",
       "    </tr>\n",
       "    <tr>\n",
       "      <th>1259.0</th>\n",
       "      <td>4565</td>\n",
       "      <td>1432</td>\n",
       "      <td>0.10</td>\n",
       "      <td>NaN</td>\n",
       "      <td>2011-04-20 16:04:24 UTC</td>\n",
       "      <td>2011-05-11 20:53:58 UTC</td>\n",
       "      <td>0.131429</td>\n",
       "      <td>0.824837</td>\n",
       "    </tr>\n",
       "    <tr>\n",
       "      <th>2761.0</th>\n",
       "      <td>5788</td>\n",
       "      <td>5006</td>\n",
       "      <td>0.15</td>\n",
       "      <td>NaN</td>\n",
       "      <td>2011-04-20 19:12:01 UTC</td>\n",
       "      <td>2011-05-31 20:07:02 UTC</td>\n",
       "      <td>0.535714</td>\n",
       "      <td>0.652158</td>\n",
       "    </tr>\n",
       "    <tr>\n",
       "      <th>2761.0</th>\n",
       "      <td>5953</td>\n",
       "      <td>1316</td>\n",
       "      <td>0.10</td>\n",
       "      <td>NaN</td>\n",
       "      <td>2011-04-20 19:24:19 UTC</td>\n",
       "      <td>2011-04-20 19:24:19 UTC</td>\n",
       "      <td>0.578571</td>\n",
       "      <td>0.819937</td>\n",
       "    </tr>\n",
       "    <tr>\n",
       "      <th>2761.0</th>\n",
       "      <td>6906</td>\n",
       "      <td>5355</td>\n",
       "      <td>0.15</td>\n",
       "      <td>NaN</td>\n",
       "      <td>2011-04-20 20:06:14 UTC</td>\n",
       "      <td>2011-04-20 20:06:14 UTC</td>\n",
       "      <td>0.098571</td>\n",
       "      <td>0.099112</td>\n",
       "    </tr>\n",
       "    <tr>\n",
       "      <th>2761.0</th>\n",
       "      <td>7173</td>\n",
       "      <td>2472</td>\n",
       "      <td>0.20</td>\n",
       "      <td>NaN</td>\n",
       "      <td>2011-04-20 20:21:20 UTC</td>\n",
       "      <td>2011-04-20 20:21:20 UTC</td>\n",
       "      <td>0.185714</td>\n",
       "      <td>0.146611</td>\n",
       "    </tr>\n",
       "    <tr>\n",
       "      <th>18441.0</th>\n",
       "      <td>7506</td>\n",
       "      <td>482</td>\n",
       "      <td>NaN</td>\n",
       "      <td>NaN</td>\n",
       "      <td>2011-04-20 20:37:41 UTC</td>\n",
       "      <td>2011-05-14 11:33:46 UTC</td>\n",
       "      <td>0.288571</td>\n",
       "      <td>0.627880</td>\n",
       "    </tr>\n",
       "    <tr>\n",
       "      <th>2761.0</th>\n",
       "      <td>8071</td>\n",
       "      <td>2823</td>\n",
       "      <td>0.15</td>\n",
       "      <td>NaN</td>\n",
       "      <td>2011-04-20 21:05:41 UTC</td>\n",
       "      <td>2011-04-20 21:05:41 UTC</td>\n",
       "      <td>0.058571</td>\n",
       "      <td>0.825632</td>\n",
       "    </tr>\n",
       "    <tr>\n",
       "      <th>2761.0</th>\n",
       "      <td>9608</td>\n",
       "      <td>2257</td>\n",
       "      <td>NaN</td>\n",
       "      <td>NaN</td>\n",
       "      <td>2011-04-20 22:35:18 UTC</td>\n",
       "      <td>2012-05-27 19:57:41 UTC</td>\n",
       "      <td>0.568571</td>\n",
       "      <td>0.426001</td>\n",
       "    </tr>\n",
       "    <tr>\n",
       "      <th>1259.0</th>\n",
       "      <td>9681</td>\n",
       "      <td>2281</td>\n",
       "      <td>NaN</td>\n",
       "      <td>NaN</td>\n",
       "      <td>2011-04-20 22:38:04 UTC</td>\n",
       "      <td>2012-02-05 01:52:43 UTC</td>\n",
       "      <td>0.788571</td>\n",
       "      <td>0.750091</td>\n",
       "    </tr>\n",
       "    <tr>\n",
       "      <th>1259.0</th>\n",
       "      <td>10837</td>\n",
       "      <td>1395</td>\n",
       "      <td>0.10</td>\n",
       "      <td>NaN</td>\n",
       "      <td>2011-04-20 23:23:30 UTC</td>\n",
       "      <td>2011-04-20 23:23:30 UTC</td>\n",
       "      <td>0.507143</td>\n",
       "      <td>0.694550</td>\n",
       "    </tr>\n",
       "    <tr>\n",
       "      <th>1259.0</th>\n",
       "      <td>11306</td>\n",
       "      <td>1146</td>\n",
       "      <td>0.05</td>\n",
       "      <td>NaN</td>\n",
       "      <td>2011-04-20 23:59:22 UTC</td>\n",
       "      <td>2011-04-20 23:59:22 UTC</td>\n",
       "      <td>0.217143</td>\n",
       "      <td>0.881109</td>\n",
       "    </tr>\n",
       "    <tr>\n",
       "      <th>1259.0</th>\n",
       "      <td>11427</td>\n",
       "      <td>5123</td>\n",
       "      <td>NaN</td>\n",
       "      <td>NaN</td>\n",
       "      <td>2011-04-21 00:07:30 UTC</td>\n",
       "      <td>2011-04-21 00:07:30 UTC</td>\n",
       "      <td>0.301429</td>\n",
       "      <td>0.708518</td>\n",
       "    </tr>\n",
       "  </tbody>\n",
       "</table>\n",
       "</div>"
      ],
      "text/plain": [
       "            id  menu_page_id  price  high_price               created_at  \\\n",
       "dish_id                                                                    \n",
       "1259.0     454          5217    NaN         NaN  2011-04-19 03:29:41 UTC   \n",
       "1259.0     530           130    NaN         NaN  2011-04-19 13:17:01 UTC   \n",
       "1259.0    1194          6471    NaN         NaN  2011-04-19 19:22:19 UTC   \n",
       "1259.0    1792           134    NaN         NaN  2011-04-19 20:42:20 UTC   \n",
       "1259.0    2093           146    NaN         NaN  2011-04-19 22:22:22 UTC   \n",
       "1259.0    2953          1627    NaN         NaN  2011-04-20 02:18:30 UTC   \n",
       "1259.0    3715          4783   0.10         NaN  2011-04-20 05:06:28 UTC   \n",
       "2761.0    3966          3531   0.10         NaN  2011-04-20 05:25:58 UTC   \n",
       "1259.0    4565          1432   0.10         NaN  2011-04-20 16:04:24 UTC   \n",
       "2761.0    5788          5006   0.15         NaN  2011-04-20 19:12:01 UTC   \n",
       "2761.0    5953          1316   0.10         NaN  2011-04-20 19:24:19 UTC   \n",
       "2761.0    6906          5355   0.15         NaN  2011-04-20 20:06:14 UTC   \n",
       "2761.0    7173          2472   0.20         NaN  2011-04-20 20:21:20 UTC   \n",
       "18441.0   7506           482    NaN         NaN  2011-04-20 20:37:41 UTC   \n",
       "2761.0    8071          2823   0.15         NaN  2011-04-20 21:05:41 UTC   \n",
       "2761.0    9608          2257    NaN         NaN  2011-04-20 22:35:18 UTC   \n",
       "1259.0    9681          2281    NaN         NaN  2011-04-20 22:38:04 UTC   \n",
       "1259.0   10837          1395   0.10         NaN  2011-04-20 23:23:30 UTC   \n",
       "1259.0   11306          1146   0.05         NaN  2011-04-20 23:59:22 UTC   \n",
       "1259.0   11427          5123    NaN         NaN  2011-04-21 00:07:30 UTC   \n",
       "\n",
       "                      updated_at      xpos      ypos  \n",
       "dish_id                                               \n",
       "1259.0   2011-10-05 21:07:14 UTC  0.342857  0.761442  \n",
       "1259.0   2011-05-13 05:14:16 UTC  0.667143  0.735197  \n",
       "1259.0   2011-05-06 18:52:50 UTC  0.315714  0.747705  \n",
       "1259.0   2011-04-19 20:42:20 UTC  0.550000  0.685084  \n",
       "1259.0   2011-04-19 22:22:22 UTC  0.568571  0.683963  \n",
       "1259.0   2011-04-20 02:18:30 UTC  0.508571  0.623720  \n",
       "1259.0   2011-10-02 16:31:41 UTC  0.301429  0.338671  \n",
       "2761.0   2011-04-20 05:25:58 UTC  0.342857  0.477359  \n",
       "1259.0   2011-05-11 20:53:58 UTC  0.131429  0.824837  \n",
       "2761.0   2011-05-31 20:07:02 UTC  0.535714  0.652158  \n",
       "2761.0   2011-04-20 19:24:19 UTC  0.578571  0.819937  \n",
       "2761.0   2011-04-20 20:06:14 UTC  0.098571  0.099112  \n",
       "2761.0   2011-04-20 20:21:20 UTC  0.185714  0.146611  \n",
       "18441.0  2011-05-14 11:33:46 UTC  0.288571  0.627880  \n",
       "2761.0   2011-04-20 21:05:41 UTC  0.058571  0.825632  \n",
       "2761.0   2012-05-27 19:57:41 UTC  0.568571  0.426001  \n",
       "1259.0   2012-02-05 01:52:43 UTC  0.788571  0.750091  \n",
       "1259.0   2011-04-20 23:23:30 UTC  0.507143  0.694550  \n",
       "1259.0   2011-04-20 23:59:22 UTC  0.217143  0.881109  \n",
       "1259.0   2011-04-21 00:07:30 UTC  0.301429  0.708518  "
      ]
     },
     "execution_count": 92,
     "metadata": {},
     "output_type": "execute_result"
    }
   ],
   "source": [
    "lookup_items_df.head(20)"
   ]
  },
  {
   "cell_type": "markdown",
   "metadata": {},
   "source": [
    "From this intermediate DataFrame we want to grab the values for menu_page_id so that we can look up the relevant menus to which they belong:"
   ]
  },
  {
   "cell_type": "code",
   "execution_count": 93,
   "metadata": {
    "collapsed": true
   },
   "outputs": [],
   "source": [
    "lookup_pages_df=page_df[page_df.index.isin(lookup_items_df.menu_page_id.values)]"
   ]
  },
  {
   "cell_type": "markdown",
   "metadata": {},
   "source": [
    "Now we can grab all the relevant values of 'menu_id' for menus and do the last lookup:"
   ]
  },
  {
   "cell_type": "code",
   "execution_count": 94,
   "metadata": {
    "collapsed": true
   },
   "outputs": [],
   "source": [
    "lookup_menus_df=(menu_df[menu_df.index.isin(lookup_pages_df.menu_id.values)])"
   ]
  },
  {
   "cell_type": "markdown",
   "metadata": {},
   "source": [
    "Now we should have a DataFrame containing only menus that have pages on which one of the dishes from our 'French fried potato' cluster appears:"
   ]
  },
  {
   "cell_type": "markdown",
   "metadata": {},
   "source": [
    "This next bit is a workaround since parsing the dates in the date column doesn't seem to be working for me as expected. I need to extract the year for each menu so I can group the number of appearances of dish by year"
   ]
  },
  {
   "cell_type": "code",
   "execution_count": 95,
   "metadata": {},
   "outputs": [
    {
     "name": "stderr",
     "output_type": "stream",
     "text": [
      "C:\\ProgramData\\Anaconda3\\lib\\site-packages\\ipykernel_launcher.py:13: SettingWithCopyWarning: \n",
      "A value is trying to be set on a copy of a slice from a DataFrame.\n",
      "Try using .loc[row_indexer,col_indexer] = value instead\n",
      "\n",
      "See the caveats in the documentation: http://pandas.pydata.org/pandas-docs/stable/indexing.html#indexing-view-versus-copy\n",
      "  del sys.path[0]\n"
     ]
    }
   ],
   "source": [
    "import dateutil\n",
    "\n",
    "def extract_year(x):\n",
    "    try:\n",
    "        datestring = dateutil.parser.parse(x)\n",
    "        return '{0:g}'.format(datestring.year)\n",
    "    except:\n",
    "        return None\n",
    "    \n",
    "def cleanDateRange(dates):\n",
    "    return filter(lambda x: x >= 1851 and x<=2012, dates)\n",
    "\n",
    "lookup_menus_df['date_year'] = lookup_menus_df['date'].map(extract_year)\n",
    "\n",
    "def cleanYearSeries(year_series):\n",
    "    for year, count in year_series.iteritems():\n",
    "    #print(year, count)\n",
    "        if(year<\"1851\" or year>\"2012\"):\n",
    "            year_series = year_series.drop(year)\n",
    "    return year_series"
   ]
  },
  {
   "cell_type": "markdown",
   "metadata": {},
   "source": [
    "With a little IPython magic, it's possible to plot frequency of appearances:"
   ]
  },
  {
   "cell_type": "code",
   "execution_count": 96,
   "metadata": {},
   "outputs": [
    {
     "data": {
      "text/plain": [
       "<matplotlib.axes._subplots.AxesSubplot at 0x2008113f2b0>"
      ]
     },
     "execution_count": 96,
     "metadata": {},
     "output_type": "execute_result"
    },
    {
     "data": {
      "image/png": "[encoded data removed]",
      "text/plain": [
       "<matplotlib.figure.Figure at 0x200f350c7f0>"
      ]
     },
     "metadata": {},
     "output_type": "display_data"
    }
   ],
   "source": [
    "%matplotlib inline\n",
    "\n",
    "by_year = lookup_menus_df.groupby(lookup_menus_df['date_year'])\n",
    "year_series = cleanYearSeries(by_year.size())\n",
    "year_series.to_csv(\"FrenchFry.csv\")\n",
    "year_series.plot(figsize=(20,10))\n",
    "   "
   ]
  },
  {
   "cell_type": "markdown",
   "metadata": {},
   "source": [
    "Of course, this graph does not look right. What's going on with that huge spike at the beginning of the 20th century? And why do the number of appearances decrease toward mid-century? \n",
    "\n",
    "This skew is an artifact of the coverage of the underlying menu collection that NYPL holds. From the Library's own [collection guide](http://digitalgallery.nypl.org/nypldigital/explore/dgexplore.cfm?col_id=159): \n",
    "> Thousands of menus beginning with the oldest items in the collection from 1851. The collection is strongest for the period between 1890 and 1910.\n",
    "\n",
    "This is why NYPL, on their own site, has normalized the plot of dish appearances by total number of menus held for a given year."
   ]
  },
  {
   "cell_type": "code",
   "execution_count": 97,
   "metadata": {},
   "outputs": [],
   "source": [
    "# Extract years in the complete DataFrame for menus\n",
    "menu_df['date_year'] = menu_df['date'].map(extract_year)\n",
    "\n",
    "# Group by year and calculate the number of menus held for each year\n",
    "total_menu_by_year = menu_df.groupby(menu_df['date_year'])\n",
    "menu_total_series = cleanYearSeries(total_menu_by_year.size())\n",
    "#total_menu_by_year.head(10)\n",
    "\n",
    "dish_df_by_year = dish_df.groupby(dish_df['first_appeared'])\n"
   ]
  },
  {
   "cell_type": "markdown",
   "metadata": {},
   "source": [
    "With this information, we can create a normalized graph:"
   ]
  },
  {
   "cell_type": "code",
   "execution_count": 98,
   "metadata": {},
   "outputs": [
    {
     "data": {
      "text/plain": [
       "<matplotlib.axes._subplots.AxesSubplot at 0x2008060bc18>"
      ]
     },
     "execution_count": 98,
     "metadata": {},
     "output_type": "execute_result"
    },
    {
     "data": {
      "image/png": "[encoded data removed]",
      "text/plain": [
       "<matplotlib.figure.Figure at 0x20080662470>"
      ]
     },
     "metadata": {},
     "output_type": "display_data"
    }
   ],
   "source": [
    "normed = [float(year_series[date_year])/menu_total_series[date_year].astype(float) for date_year in year_series.index.tolist()]\n",
    "seriesData = cleanYearSeries(pd.Series(normed, index=year_series.index))\n",
    "seriesData.to_csv(\"F_normed.csv\")\n",
    "seriesData.plot(figsize=(20,10))\n",
    "#year_series.plot(figsize=(20,10))"
   ]
  },
  {
   "cell_type": "markdown",
   "metadata": {},
   "source": [
    "### Conclusion"
   ]
  },
  {
   "cell_type": "markdown",
   "metadata": {},
   "source": [
    "Working with Pandas has its advantages; mainly in terms of speed-up but it lacks the mechanism of human interventin that OpenRefine provides through its GUI."
   ]
  },
  {
   "cell_type": "code",
   "execution_count": null,
   "metadata": {
    "collapsed": true
   },
   "outputs": [],
   "source": []
  }
 ],
 "metadata": {
  "kernelspec": {
   "display_name": "Python 3",
   "language": "python",
   "name": "python3"
  },
  "language_info": {
   "codemirror_mode": {
    "name": "ipython",
    "version": 3
   },
   "file_extension": ".py",
   "mimetype": "text/x-python",
   "name": "python",
   "nbconvert_exporter": "python",
   "pygments_lexer": "ipython3",
   "version": "3.6.1"
  }
 },
 "nbformat": 4,
 "nbformat_minor": 1
}
